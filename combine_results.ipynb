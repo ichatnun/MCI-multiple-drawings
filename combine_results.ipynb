{
 "cells": [
  {
   "cell_type": "code",
   "execution_count": 1,
   "id": "717a9647-6195-4713-9cd5-0f6e165f197d",
   "metadata": {},
   "outputs": [],
   "source": [
    "import numpy as np\n",
    "import pandas as pd\n",
    "import os, glob, pdb"
   ]
  },
  {
   "cell_type": "code",
   "execution_count": 2,
   "id": "e0f7682d-7b50-4bbe-a2a8-bc859c815e90",
   "metadata": {},
   "outputs": [],
   "source": [
    "results_dir = 'results'\n",
    "valid_task_list = ['clock', 'copy', 'trail', 'clock_copy', 'copy_trail', 'copy_trail', 'all']"
   ]
  },
  {
   "cell_type": "markdown",
   "id": "7c7a852a-c3a9-4c59-b926-4fbf78eca0c5",
   "metadata": {},
   "source": [
    "# Compute the mean and std of each specific setup (e.g., clock + vgg16 + hard labels)\n"
   ]
  },
  {
   "cell_type": "code",
   "execution_count": 3,
   "id": "b92d8561-116e-4b9c-89df-46623d231f9d",
   "metadata": {},
   "outputs": [],
   "source": [
    "all_dataframe_dict = {}\n",
    "for curr_task in os.listdir(results_dir):\n",
    "    if curr_task in valid_task_list:\n",
    "        for curr_label_type in os.listdir(os.path.join(results_dir, \n",
    "                                                       curr_task)): \n",
    "            if curr_label_type in ['hard', 'soft']:\n",
    "                for curr_model in os.listdir(os.path.join(results_dir, \n",
    "                                                          curr_task, \n",
    "                                                          curr_label_type)):\n",
    "                    if curr_model in ['vgg16', 'conv-att']:\n",
    "                        \n",
    "                        df_many_seeds = pd.DataFrame()\n",
    "                        for curr_seed in os.listdir(os.path.join(results_dir, \n",
    "                                                                 curr_task, \n",
    "                                                                 curr_label_type,\n",
    "                                                                 curr_model)):\n",
    "                            \n",
    "                            \n",
    "                            \n",
    "                            curr_path = os.path.join(results_dir, \n",
    "                                                     curr_task, \n",
    "                                                     curr_label_type, \n",
    "                                                     curr_model,\n",
    "                                                     curr_seed)\n",
    "                            \n",
    "                            if os.path.isdir(curr_path) and (not curr_seed.startswith(\".\")):\n",
    "\n",
    "                                curr_seed_no_date = int(curr_seed.split('_', 1)[0])\n",
    "                                \n",
    "                                # Extract result for the current seeds\n",
    "                                temp_df = pd.read_csv(os.path.join(curr_path, \"eval_metrics.csv\"))\n",
    "                                temp_df.insert(0, 'seed', curr_seed_no_date)\n",
    "\n",
    "                                # Combine it to other seeds\n",
    "                                df_many_seeds = df_many_seeds.append(temp_df)\n",
    "\n",
    "                        # Compute the mean\n",
    "                        df_mean = df_many_seeds.mean(axis=0)\n",
    "                        df_mean[\"seed\"] = \"mean\"\n",
    "\n",
    "                        # Compute the std\n",
    "                        df_std = df_many_seeds.std(axis=0)\n",
    "                        df_std[\"seed\"] = \"std\"\n",
    "                        \n",
    "                        # Add the calculated mean and std to the current dataframe\n",
    "                        df_many_seeds = df_many_seeds.append(df_mean, ignore_index=True) \n",
    "                        df_many_seeds = df_many_seeds.append(df_std, ignore_index=True)\n",
    "                         \n",
    "                        \n",
    "                        df_many_seeds.to_csv(os.path.join(results_dir, \n",
    "                                                          curr_task, \n",
    "                                                          curr_label_type, \n",
    "                                                          curr_model, \n",
    "                                                          'eval_combined_seeds.csv'),\n",
    "                                             index=False)\n",
    "                        \n",
    "                        all_dataframe_dict[f\"{curr_task}_{curr_label_type}_{curr_model}\"] = df_many_seeds"
   ]
  },
  {
   "cell_type": "code",
   "execution_count": 4,
   "id": "63903fca-ae58-4ccc-939a-170bf6615a6c",
   "metadata": {},
   "outputs": [],
   "source": [
    "with pd.ExcelWriter(os.path.join(results_dir, 'eval_comparison.xlsx'), engine='openpyxl') as writer:\n",
    "    \n",
    "    df_mean = pd.DataFrame()\n",
    "    df_std = pd.DataFrame()\n",
    "    \n",
    "    for idx, curr_exp in enumerate(all_dataframe_dict.keys()):\n",
    "        curr_mean = all_dataframe_dict[curr_exp].iloc[-2, 1:].to_frame().transpose()\n",
    "        curr_mean.insert(0, 'methods', curr_exp)\n",
    "        df_mean = df_mean.append(curr_mean)\n",
    "        \n",
    "        curr_std = all_dataframe_dict[curr_exp].iloc[-1, 1:].to_frame().transpose()\n",
    "        curr_std.insert(0, 'methods', curr_exp)\n",
    "        df_std = df_std.append(curr_std)\n",
    "        \n",
    "        all_dataframe_dict[curr_exp].to_excel(writer, sheet_name=curr_exp, index=False)\n",
    "        \n",
    "    df_mean.to_excel(writer, sheet_name='mean', index=False)\n",
    "    df_std.to_excel(writer, sheet_name='std', index=False)"
   ]
  },
  {
   "cell_type": "code",
   "execution_count": null,
   "id": "8baf146f-43dd-41ea-b6e5-523877877954",
   "metadata": {},
   "outputs": [],
   "source": []
  }
 ],
 "metadata": {
  "kernelspec": {
   "display_name": "Python 3 (ipykernel)",
   "language": "python",
   "name": "python3"
  },
  "language_info": {
   "codemirror_mode": {
    "name": "ipython",
    "version": 3
   },
   "file_extension": ".py",
   "mimetype": "text/x-python",
   "name": "python",
   "nbconvert_exporter": "python",
   "pygments_lexer": "ipython3",
   "version": "3.9.13"
  }
 },
 "nbformat": 4,
 "nbformat_minor": 5
}
